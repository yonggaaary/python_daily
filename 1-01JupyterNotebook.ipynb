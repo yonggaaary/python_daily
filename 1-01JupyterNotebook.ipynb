{
 "cells": [
  {
   "cell_type": "markdown",
   "id": "fbeb42a3-60d2-4de2-9c1d-c5ae59efe2a5",
   "metadata": {
    "slideshow": {
     "slide_type": "slide"
    },
    "tags": []
   },
   "source": [
    "# Jupyter Notebook\n",
    "\n",
    "<img src=\"https://jupyter.org/assets/logos/rectanglelogo-greytext-orangebody-greymoons.svg\" width=\"200\" />\n",
    "\n",
    "> 수정 2022.05"
   ]
  },
  {
   "cell_type": "markdown",
   "id": "865f1ac7-8f75-4224-90c3-02c26881f828",
   "metadata": {
    "tags": []
   },
   "source": [
    "### iPython 동작\n",
    "\n",
    "<img src='https://ipython.org/ipython-doc/3/_images/notebook_components.png' width='500'>\n",
    "- https://ipython.org/ipython-doc/3/development/how_ipython_works.html\n",
    "\n",
    "\n"
   ]
  },
  {
   "cell_type": "markdown",
   "id": "3e44635b-0c54-4c92-a9bb-6d84831925b7",
   "metadata": {
    "slideshow": {
     "slide_type": "slide"
    }
   },
   "source": [
    "브라우저 기반 인터랙티브 파이썬 환경\n",
    "* 인터랙티브 파이썬 코딩\n",
    "* 매직 명령어\n",
    "* 시스템 쉘\n",
    "* 마크다운 문법\n",
    "* 수학식 표현 (Latex)\n",
    "* 슬라이드, HTML, PDF\n",
    "* 대규모 병렬 컴퓨팅 (IPython.parallel)"
   ]
  },
  {
   "attachments": {
    "0027e823-85e1-4698-a8ac-08bfe7a604ea.png": {
     "image/png": "[encoded data removed]"
    }
   },
   "cell_type": "markdown",
   "id": "2a3b8fe1-5d44-409f-8a3b-3af8ba2924c5",
   "metadata": {},
   "source": [
    "### Kernel\n",
    "\n",
    "커널은 노트북 문서의 코드를 실행할 수 있는 엔진이다.\n",
    "\n",
    "- Kernel 이란: https://jupyter-notebook-beginner-guide.readthedocs.io/en/latest/what_is_jupyter.html#kernel\n",
    "- Major Kernels: https://docs.jupyter.org/en/latest/#kernels\n",
    "\n",
    "쥬피터 노트북 ( 혹은 랩) 에서 노트북 문서 실행시 선택할 수 있다.\n",
    "\n",
    "![image.png](attachment:0027e823-85e1-4698-a8ac-08bfe7a604ea.png)"
   ]
  },
  {
   "cell_type": "code",
   "execution_count": null,
   "id": "617e4560-fe5b-4d21-b911-2455befdcc6c",
   "metadata": {},
   "outputs": [],
   "source": []
  },
  {
   "cell_type": "code",
   "execution_count": null,
   "id": "cfd33922-beeb-47b6-81ba-50a33c0ebbdd",
   "metadata": {},
   "outputs": [],
   "source": []
  },
  {
   "cell_type": "code",
   "execution_count": null,
   "id": "ba90b9b7-2a93-4c15-ae04-11380fcc6ab7",
   "metadata": {},
   "outputs": [],
   "source": []
  },
  {
   "cell_type": "code",
   "execution_count": null,
   "id": "d6105247-50e5-48b7-a203-68e958f4ccb6",
   "metadata": {},
   "outputs": [],
   "source": []
  },
  {
   "cell_type": "code",
   "execution_count": null,
   "id": "7ee34b9d-b513-4c1d-ad9f-d2fd7992b80f",
   "metadata": {},
   "outputs": [],
   "source": []
  },
  {
   "cell_type": "markdown",
   "id": "e0240615-2f32-4e43-aee7-a29315e08b59",
   "metadata": {},
   "source": [
    "#### XPython (Xesus Kernel)\n",
    "\n",
    "Jupyter Kernel 프로토콜 xesus 의 네이티브 구현한 노트북 커널이다.\n",
    " - https://github.com/jupyter-xeus/xeus-python"
   ]
  },
  {
   "cell_type": "markdown",
   "id": "6758c974-fb58-4adb-964d-cbd30e8c756f",
   "metadata": {
    "slideshow": {
     "slide_type": "slide"
    },
    "tags": []
   },
   "source": [
    "# 특징\n",
    "\n",
    "* 웹기반의 대화적\n",
    "* 노트 정리하듯 정리, 손쉽게 공유\n",
    "* 개발, 문서화 환경\n",
    "* **매우 혁신적인 도구**\n",
    "* 웹 응용프로그램과 문서를 결합한 형태\n",
    "* 실행 코드, 설명 텍스트, 수학식, 미디어도 문서에 포함"
   ]
  },
  {
   "cell_type": "markdown",
   "id": "a9d961a8-b4c3-4c0c-8aab-9e91fc3183fb",
   "metadata": {
    "slideshow": {
     "slide_type": "slide"
    }
   },
   "source": [
    "# 코드 작성\n",
    "\n",
    "* 코드 편집, 자동구문강조 syntax hilighting, 자동 들여쓰기, 탭 완성\n",
    "* 실행결과를 브라우저내 inline 에 표시\n",
    "* HTML, LaTex 수학식, PNG, SVG 등 표현, matplotlib을 중간 삽입\n",
    "* Markdowm 편집하여 간단한 서식있는 문서를 작성\n",
    "* 수학적 표기법을 포함하고, 표현 Mathjax"
   ]
  },
  {
   "cell_type": "markdown",
   "id": "bd6ee474-92c1-4a43-ba12-fd2a0e5791d4",
   "metadata": {
    "slideshow": {
     "slide_type": "slide"
    }
   },
   "source": [
    "# 시작과 종료\n",
    "\n",
    "시작 (로컬 혹은 서버로 실행)\n",
    "\n",
    "쥬피터 노트북\n",
    "\n",
    "```bash\n",
    "# 서버로 실행\n",
    "$ jupyter notebook --ip=0.0.0.0 --port=8080\n",
    "```"
   ]
  },
  {
   "cell_type": "markdown",
   "id": "05b3aca5-2a79-45e1-ab0f-636cb39245d3",
   "metadata": {
    "slideshow": {
     "slide_type": "slide"
    }
   },
   "source": [
    "쥬피터 랩\n",
    "\n",
    "```bash\n",
    "$ jupyter-lab --no-browser --port=8080 DIR\n",
    "```\n",
    "\n",
    "\n",
    "종료는 Ctrl+C"
   ]
  },
  {
   "cell_type": "markdown",
   "id": "35a1025d-12c3-49f5-af86-a539220ea620",
   "metadata": {},
   "source": [
    "# 셀 이란\n",
    "\n",
    "코드 / 텍스트를 입력하는 기능\n",
    "\n",
    "1. 코드 셀\n",
    "2. 마크다운 셀"
   ]
  },
  {
   "cell_type": "markdown",
   "id": "94f08c2a-fb82-4b09-a43e-c3ae95bfbf81",
   "metadata": {
    "slideshow": {
     "slide_type": "slide"
    }
   },
   "source": [
    "# 명령모드와 편집모드\n",
    "\n",
    "Jupyter Notebook 키보드 입력에는 두 가지 모드가 있다. vi 에디터의 명령/편집 모드를 사용한다.\n",
    "* 명령모드(Command mode): 노트북의 셀을 편집 (파란색+회색 테두리) \n",
    "* 편집모드(Edit mode): 셀에 있는 텍스트나 코드를 편집 (녹색 테두리)\n",
    "\n",
    "\n",
    "모드 전환\n",
    "* Esc키를 누르면 명령모드로, Enter를 누르면 편집모드로 상호전환\n",
    "* 명령 모드에서 j,k 키로 아래/위로 이동 (vi 에디터)\n",
    "* 도움말 표시: 명령 모드에서 h 키"
   ]
  },
  {
   "cell_type": "markdown",
   "id": "a5ca95f1-2411-413a-93c3-85fde66d3c2d",
   "metadata": {
    "slideshow": {
     "slide_type": "slide"
    }
   },
   "source": [
    "# 실행과 저장(명령모드, 편집모드 공통)\n",
    "자주 사용되는 키보드를 확인하고 익혀두자\n",
    "\n",
    "* Ctrl-Enter 현재 셀 실행 \n",
    "* Shift-Enter 셀 실행 + 아래로 이동 \n",
    "* Ctrl-s: 노트북 저장 "
   ]
  },
  {
   "cell_type": "markdown",
   "id": "47a8c273-2c97-4440-b0a7-4a5124270cc6",
   "metadata": {
    "slideshow": {
     "slide_type": "slide"
    }
   },
   "source": [
    "# 명령모드(Esc를 눌러 활성화)\n",
    "자주 사용되는 키보드를 확인하고 익혀두자\n",
    "\n",
    "* Enter 편집 모드 \n",
    "* y: 코드로 전환 \n",
    "* m: 마크다운으로 전환 \n",
    "* ↑, k : 위로, \n",
    "* ↓, j : 아래로 \n",
    "* Ctrl-k: 셀을 위로 이동 \n",
    "* Ctrl-j: 셀을 아래로 이동 \n",
    "* a: 위에 셀 추가 (b는 아래에 셀 추가)\n",
    "* c: 셀 복사 \n",
    "* v: 아래에 셀 붙여넣기 \n",
    "* Shift-m: 셀 아래 병합 \n",
    "* h: 키보드 바로가기 도움말 "
   ]
  },
  {
   "cell_type": "markdown",
   "id": "6b2e3429-0358-4959-8648-db95df48b9ad",
   "metadata": {
    "slideshow": {
     "slide_type": "slide"
    }
   },
   "source": [
    "# 편집모드(Enter를 눌러 활성화)\n",
    "자주 사용되는 키보드를 확인하고 익혀두자\n",
    "\n",
    "* Esc: 명령모드 \n",
    "* Ctrl-Shift--: 셀 분할 \n",
    "* Ctrl-Left: 단어 단위 왼쪽으로 \n",
    "* Ctrl-Right: 단어 단위 오른쪽으로 "
   ]
  },
  {
   "cell_type": "markdown",
   "id": "c4f24356-06ef-4998-bdac-035638c234f9",
   "metadata": {},
   "source": [
    "## **2 Cell 편집하기**\n",
    "\n",
    "### **01 셀 내부 선택 / 셀 외부 선택**"
   ]
  },
  {
   "cell_type": "code",
   "execution_count": 7,
   "id": "a4a8c0fd-7b6c-4fe8-9b94-c938912b87df",
   "metadata": {},
   "outputs": [],
   "source": [
    "# Enter : 셀 내부로 들어가기"
   ]
  },
  {
   "cell_type": "code",
   "execution_count": 8,
   "id": "fd9ba73e-c8a2-4cb8-81f9-26762f14659c",
   "metadata": {},
   "outputs": [],
   "source": [
    "# ESC : 셀 외부로 빠져나가기"
   ]
  },
  {
   "cell_type": "markdown",
   "id": "ae17bea9-08ab-41a8-8f44-72851fd2a0ed",
   "metadata": {},
   "source": [
    "### **02 셀 분리**\n",
    "Ctrl + Shift + '-'"
   ]
  },
  {
   "cell_type": "code",
   "execution_count": 9,
   "id": "656b7bc8-b190-48e0-a1fc-17e4d9c14031",
   "metadata": {},
   "outputs": [],
   "source": [
    "# 셀 내부에서 작업하다가\n",
    "# 일정 부분에서\n",
    "# Ctrl + Shift + '-'"
   ]
  },
  {
   "cell_type": "markdown",
   "id": "d407ebb2-a2c0-405a-8fe5-521d08cf8252",
   "metadata": {},
   "source": [
    "### **02 셀 병합**\n",
    "Shift + 'm'"
   ]
  },
  {
   "cell_type": "code",
   "execution_count": 10,
   "id": "ddacb2ef-3fb2-41b1-9ab9-f4e06d86ce1c",
   "metadata": {},
   "outputs": [],
   "source": [
    "# 셀 아웃한 뒤 \n",
    "# Shift + 'm' \n",
    "# 실수로 'm' 을 누르면 셀의 속성이 Mark Down 으로 바뀐다"
   ]
  },
  {
   "cell_type": "markdown",
   "id": "6f0fe668-7ffd-4af0-a1a7-7c278ae60349",
   "metadata": {},
   "source": [
    "## **3 Cell 속성 바꾸기**\n",
    "Code / Mark Down"
   ]
  },
  {
   "cell_type": "code",
   "execution_count": 11,
   "id": "eef1c362-574f-4252-a625-9bfcc510c19c",
   "metadata": {},
   "outputs": [],
   "source": [
    "# ESC 로 셀 외부로 빠진 뒤\n",
    "# 'Y' : Code 속성으로 변경\n",
    "# 'M' : MarkDown 속성으로 변경"
   ]
  },
  {
   "cell_type": "markdown",
   "id": "b69a3851-546e-4d3a-8e3f-95a9bf4c8020",
   "metadata": {},
   "source": [
    "\n",
    "## **4 Cell 객체 편집하기**\n",
    "Code / Mark Down"
   ]
  },
  {
   "cell_type": "code",
   "execution_count": 12,
   "id": "d0bc3a46-fdc5-4936-aeec-3b30b48913f5",
   "metadata": {},
   "outputs": [],
   "source": [
    "# ESC\n",
    "# \"D\" \"D\"  Delete Cell"
   ]
  },
  {
   "cell_type": "code",
   "execution_count": 13,
   "id": "1a19b4af-3417-4b02-a0aa-7a04f3e8ad86",
   "metadata": {},
   "outputs": [],
   "source": [
    "# ESC\n",
    "# \"B\" 빈쎌 삽입하기"
   ]
  },
  {
   "cell_type": "markdown",
   "id": "eef8ec3e-24c5-4f20-9f88-bf0f8c61dba1",
   "metadata": {},
   "source": [
    "<br><br>\n",
    "## **5 ipython 단축키**\n",
    "http://bigbigdata.tistory.com/65"
   ]
  },
  {
   "cell_type": "markdown",
   "id": "5cc129e2-9d19-419f-8e10-4a55c120e7c7",
   "metadata": {},
   "source": [
    "# Object Information"
   ]
  },
  {
   "cell_type": "markdown",
   "id": "4ad6b89c-c55d-4aae-a229-ed9f8bc44624",
   "metadata": {},
   "source": [
    "### **01. 객체 정보 확인** <small> shift + TAB </small>\n",
    "변수를 키인하고 **shift + TAB** 누르면 내부 특성이 조회됨"
   ]
  },
  {
   "cell_type": "code",
   "execution_count": 4,
   "id": "41ae7a49-09fb-4d36-ae34-982323f01e4f",
   "metadata": {},
   "outputs": [],
   "source": [
    "a = 10"
   ]
  },
  {
   "cell_type": "code",
   "execution_count": 2,
   "id": "aa885729-8565-47cd-b8ba-dbb341884337",
   "metadata": {
    "tags": []
   },
   "outputs": [
    {
     "data": {
      "text/plain": [
       "10"
      ]
     },
     "execution_count": 2,
     "metadata": {},
     "output_type": "execute_result"
    }
   ],
   "source": [
    "a"
   ]
  },
  {
   "cell_type": "markdown",
   "id": "8e818d0c-9c90-4d45-86f4-fd0920f219da",
   "metadata": {},
   "source": [
    "### **02 함수정보 확인** <small> shift + TAB </small>\n",
    "함수를 키인하고 **shift + TAB** 누르면 내부 특성이 조회됨"
   ]
  },
  {
   "cell_type": "code",
   "execution_count": 3,
   "id": "4c81a92e-20c6-4df6-a42b-b8915e1cf80c",
   "metadata": {},
   "outputs": [],
   "source": [
    "def sum(a,b):\n",
    "    return a + b"
   ]
  },
  {
   "cell_type": "code",
   "execution_count": 4,
   "id": "a94be139-a436-4589-91c1-ec0abbd6dd2b",
   "metadata": {},
   "outputs": [
    {
     "data": {
      "text/plain": [
       "5"
      ]
     },
     "execution_count": 4,
     "metadata": {},
     "output_type": "execute_result"
    }
   ],
   "source": [
    "sum(1, 4)"
   ]
  },
  {
   "cell_type": "code",
   "execution_count": 5,
   "id": "800b39ff-1039-4fbf-8d66-4e480417d176",
   "metadata": {},
   "outputs": [
    {
     "data": {
      "text/plain": [
       "<function __main__.sum(a, b)>"
      ]
     },
     "execution_count": 5,
     "metadata": {},
     "output_type": "execute_result"
    }
   ],
   "source": [
    "sum"
   ]
  },
  {
   "cell_type": "markdown",
   "id": "ce6d6e6c-0c9a-4bf1-a1f4-6770636cd444",
   "metadata": {},
   "source": [
    "docstrings 확인"
   ]
  },
  {
   "cell_type": "code",
   "execution_count": 51,
   "id": "c461127b-79e1-4c70-970f-a8e21f9ef4e8",
   "metadata": {
    "tags": []
   },
   "outputs": [],
   "source": [
    "def sum(a,b):\n",
    "    \"\"\"sum()는 두 수를 더한 결과를 반환한다.\"\"\"\n",
    "    return a + b"
   ]
  },
  {
   "cell_type": "code",
   "execution_count": 57,
   "id": "e5767bf7-4fac-4813-bd77-70aa23357f42",
   "metadata": {},
   "outputs": [
    {
     "data": {
      "text/plain": [
       "<function __main__.sum(a, b)>"
      ]
     },
     "execution_count": 57,
     "metadata": {},
     "output_type": "execute_result"
    }
   ],
   "source": [
    "sum"
   ]
  },
  {
   "cell_type": "markdown",
   "id": "d477553d-fd98-4436-9ea3-0f74ee0908ce",
   "metadata": {},
   "source": [
    "### **03 객체/ 함수정보 확인** <small> shift + TAB </small>\n",
    "**?** by Codes"
   ]
  },
  {
   "cell_type": "code",
   "execution_count": 12,
   "id": "2c6019ea-63e1-4127-8e54-09e94389d683",
   "metadata": {},
   "outputs": [
    {
     "name": "stdout",
     "output_type": "stream",
     "text": [
      "Object `a` not found.\n"
     ]
    }
   ],
   "source": [
    "a?"
   ]
  },
  {
   "cell_type": "code",
   "execution_count": 13,
   "id": "58a76eb9-4e54-44b6-bd69-0b54289c78be",
   "metadata": {},
   "outputs": [
    {
     "data": {
      "text/plain": [
       "\u001b[1;31mSignature:\u001b[0m \u001b[0msum\u001b[0m\u001b[1;33m(\u001b[0m\u001b[0ma\u001b[0m\u001b[1;33m,\u001b[0m \u001b[0mb\u001b[0m\u001b[1;33m)\u001b[0m\u001b[1;33m\u001b[0m\u001b[1;33m\u001b[0m\u001b[0m\n",
       "\u001b[1;31mDocstring:\u001b[0m sum()는 두 수를 더한 결과를 반환한다.\n",
       "\u001b[1;31mFile:\u001b[0m      c:\\users\\pc\\appdata\\local\\temp\\ipykernel_2768\\3878639106.py\n",
       "\u001b[1;31mType:\u001b[0m      function"
      ]
     },
     "metadata": {},
     "output_type": "display_data"
    }
   ],
   "source": [
    "sum?"
   ]
  },
  {
   "cell_type": "code",
   "execution_count": 58,
   "id": "d4f2f0e2-ab90-493d-a7f4-e113e88b2569",
   "metadata": {},
   "outputs": [],
   "source": [
    "# sum()?"
   ]
  },
  {
   "cell_type": "code",
   "execution_count": 8,
   "id": "77b7d38d-db3a-4f46-8bbc-4b8c88edca1a",
   "metadata": {},
   "outputs": [],
   "source": [
    "import numpy as np"
   ]
  },
  {
   "cell_type": "code",
   "execution_count": null,
   "id": "2b318b04-fd0d-4ae7-a835-5ed2f444be72",
   "metadata": {},
   "outputs": [],
   "source": [
    "np.exp"
   ]
  },
  {
   "cell_type": "code",
   "execution_count": null,
   "id": "1d9aeb67-7300-4290-9c8a-c83e6622bf60",
   "metadata": {
    "tags": []
   },
   "outputs": [],
   "source": [
    "help(np.exp)   # docstrings"
   ]
  },
  {
   "cell_type": "markdown",
   "id": "25750862-8e8f-4a16-944a-d6112a3602b1",
   "metadata": {},
   "source": [
    "### 노트북 도움말 `?` 이용"
   ]
  },
  {
   "cell_type": "code",
   "execution_count": null,
   "id": "9642506b-e53a-4872-aa56-da980a9111a9",
   "metadata": {},
   "outputs": [],
   "source": [
    "add?"
   ]
  },
  {
   "cell_type": "code",
   "execution_count": null,
   "id": "1d02528e-c90f-4825-94b0-1c97bc074f18",
   "metadata": {},
   "outputs": [],
   "source": [
    "add??"
   ]
  },
  {
   "cell_type": "markdown",
   "id": "242e8619-9e49-4d7a-af88-34a87e6e182b",
   "metadata": {},
   "source": [
    "### 노트북 도움말 : **Shift + TAB**\n"
   ]
  },
  {
   "cell_type": "code",
   "execution_count": null,
   "id": "6a096922-3704-4827-a8d2-c27a2dd50fff",
   "metadata": {},
   "outputs": [],
   "source": [
    "add    # Shift+tab"
   ]
  },
  {
   "cell_type": "markdown",
   "id": "23a25057-a626-4c41-9d44-f01b06826da0",
   "metadata": {},
   "source": [
    "# 매직커맨드"
   ]
  },
  {
   "cell_type": "code",
   "execution_count": 10,
   "id": "62d7e7c3-7663-4b6d-a14b-ee7da3ef0022",
   "metadata": {
    "tags": []
   },
   "outputs": [
    {
     "data": {
      "application/json": {
       "cell": {
        "!": "OSMagics",
        "HTML": "Other",
        "SVG": "Other",
        "bash": "Other",
        "capture": "ExecutionMagics",
        "cmd": "Other",
        "debug": "ExecutionMagics",
        "file": "Other",
        "html": "DisplayMagics",
        "javascript": "DisplayMagics",
        "js": "DisplayMagics",
        "latex": "DisplayMagics",
        "markdown": "DisplayMagics",
        "perl": "Other",
        "prun": "ExecutionMagics",
        "pypy": "Other",
        "python": "Other",
        "python2": "Other",
        "python3": "Other",
        "ruby": "Other",
        "script": "ScriptMagics",
        "sh": "Other",
        "svg": "DisplayMagics",
        "sx": "OSMagics",
        "system": "OSMagics",
        "time": "ExecutionMagics",
        "timeit": "ExecutionMagics",
        "writefile": "OSMagics"
       },
       "line": {
        "alias": "OSMagics",
        "alias_magic": "BasicMagics",
        "autoawait": "AsyncMagics",
        "autocall": "AutoMagics",
        "automagic": "AutoMagics",
        "autosave": "KernelMagics",
        "bookmark": "OSMagics",
        "cd": "OSMagics",
        "clear": "KernelMagics",
        "cls": "KernelMagics",
        "colors": "BasicMagics",
        "conda": "PackagingMagics",
        "config": "ConfigMagics",
        "connect_info": "KernelMagics",
        "copy": "Other",
        "ddir": "Other",
        "debug": "ExecutionMagics",
        "dhist": "OSMagics",
        "dirs": "OSMagics",
        "doctest_mode": "BasicMagics",
        "echo": "Other",
        "ed": "Other",
        "edit": "KernelMagics",
        "env": "OSMagics",
        "gui": "BasicMagics",
        "hist": "Other",
        "history": "HistoryMagics",
        "killbgscripts": "ScriptMagics",
        "ldir": "Other",
        "less": "KernelMagics",
        "load": "CodeMagics",
        "load_ext": "ExtensionMagics",
        "loadpy": "CodeMagics",
        "logoff": "LoggingMagics",
        "logon": "LoggingMagics",
        "logstart": "LoggingMagics",
        "logstate": "LoggingMagics",
        "logstop": "LoggingMagics",
        "ls": "Other",
        "lsmagic": "BasicMagics",
        "macro": "ExecutionMagics",
        "magic": "BasicMagics",
        "matplotlib": "PylabMagics",
        "mkdir": "Other",
        "more": "KernelMagics",
        "notebook": "BasicMagics",
        "page": "BasicMagics",
        "pastebin": "CodeMagics",
        "pdb": "ExecutionMagics",
        "pdef": "NamespaceMagics",
        "pdoc": "NamespaceMagics",
        "pfile": "NamespaceMagics",
        "pinfo": "NamespaceMagics",
        "pinfo2": "NamespaceMagics",
        "pip": "PackagingMagics",
        "popd": "OSMagics",
        "pprint": "BasicMagics",
        "precision": "BasicMagics",
        "prun": "ExecutionMagics",
        "psearch": "NamespaceMagics",
        "psource": "NamespaceMagics",
        "pushd": "OSMagics",
        "pwd": "OSMagics",
        "pycat": "OSMagics",
        "pylab": "PylabMagics",
        "qtconsole": "KernelMagics",
        "quickref": "BasicMagics",
        "recall": "HistoryMagics",
        "rehashx": "OSMagics",
        "reload_ext": "ExtensionMagics",
        "ren": "Other",
        "rep": "Other",
        "rerun": "HistoryMagics",
        "reset": "NamespaceMagics",
        "reset_selective": "NamespaceMagics",
        "rmdir": "Other",
        "run": "ExecutionMagics",
        "save": "CodeMagics",
        "sc": "OSMagics",
        "set_env": "OSMagics",
        "store": "StoreMagics",
        "sx": "OSMagics",
        "system": "OSMagics",
        "tb": "ExecutionMagics",
        "time": "ExecutionMagics",
        "timeit": "ExecutionMagics",
        "unalias": "OSMagics",
        "unload_ext": "ExtensionMagics",
        "who": "NamespaceMagics",
        "who_ls": "NamespaceMagics",
        "whos": "NamespaceMagics",
        "xdel": "NamespaceMagics",
        "xmode": "BasicMagics"
       }
      },
      "text/plain": [
       "Available line magics:\n",
       "%alias  %alias_magic  %autoawait  %autocall  %automagic  %autosave  %bookmark  %cd  %clear  %cls  %colors  %conda  %config  %connect_info  %copy  %ddir  %debug  %dhist  %dirs  %doctest_mode  %echo  %ed  %edit  %env  %gui  %hist  %history  %killbgscripts  %ldir  %less  %load  %load_ext  %loadpy  %logoff  %logon  %logstart  %logstate  %logstop  %ls  %lsmagic  %macro  %magic  %matplotlib  %mkdir  %more  %notebook  %page  %pastebin  %pdb  %pdef  %pdoc  %pfile  %pinfo  %pinfo2  %pip  %popd  %pprint  %precision  %prun  %psearch  %psource  %pushd  %pwd  %pycat  %pylab  %qtconsole  %quickref  %recall  %rehashx  %reload_ext  %ren  %rep  %rerun  %reset  %reset_selective  %rmdir  %run  %save  %sc  %set_env  %store  %sx  %system  %tb  %time  %timeit  %unalias  %unload_ext  %who  %who_ls  %whos  %xdel  %xmode\n",
       "\n",
       "Available cell magics:\n",
       "%%!  %%HTML  %%SVG  %%bash  %%capture  %%cmd  %%debug  %%file  %%html  %%javascript  %%js  %%latex  %%markdown  %%perl  %%prun  %%pypy  %%python  %%python2  %%python3  %%ruby  %%script  %%sh  %%svg  %%sx  %%system  %%time  %%timeit  %%writefile\n",
       "\n",
       "Automagic is ON, % prefix IS NOT needed for line magics."
      ]
     },
     "execution_count": 10,
     "metadata": {},
     "output_type": "execute_result"
    }
   ],
   "source": [
    "%lsmagic"
   ]
  },
  {
   "cell_type": "code",
   "execution_count": null,
   "id": "9afc4e2e-6451-4ed7-9fc5-6150ec779e49",
   "metadata": {},
   "outputs": [],
   "source": [
    "np"
   ]
  },
  {
   "cell_type": "code",
   "execution_count": 13,
   "id": "c248cba3-61d7-44e6-b0fd-b99d01b7ea61",
   "metadata": {},
   "outputs": [
    {
     "name": "stdout",
     "output_type": "stream",
     "text": [
      " C 드라이브의 볼륨에는 이름이 없습니다.\n",
      " 볼륨 일련 번호: 54F7-C621\n",
      "\n",
      " C:\\Users\\pc\\pythondata 디렉터리\n",
      "\n",
      "2023-03-15  오후 05:12    <DIR>          .\n",
      "2023-03-15  오후 05:12    <DIR>          ..\n",
      "2023-03-15  오후 03:34    <DIR>          .ipynb_checkpoints\n",
      "2023-03-15  오후 03:20             3,371 1-00개발환경.ipynb\n",
      "2023-03-15  오후 05:12            65,926 1-01JupyterNotebook.ipynb\n",
      "2023-03-15  오후 03:21         1,937,368 1-03Basic1_A.ipynb\n",
      "2023-03-15  오후 03:42            16,573 1-03Basic2.ipynb\n",
      "2023-03-15  오후 03:22           152,481 1-04Sequence_0.ipynb\n",
      "2023-03-15  오후 03:22            40,221 1-05Strings-Usages.ipynb\n",
      "               6개 파일           2,215,940 바이트\n",
      "               3개 디렉터리   8,039,026,688 바이트 남음\n"
     ]
    }
   ],
   "source": [
    "%ls"
   ]
  },
  {
   "cell_type": "code",
   "execution_count": null,
   "id": "ab0b9c69-b0be-4ab7-b509-a8d8db544d35",
   "metadata": {},
   "outputs": [],
   "source": [
    "%cd Jupyter-AI/"
   ]
  },
  {
   "cell_type": "code",
   "execution_count": 14,
   "id": "858ce59a-1ac6-4b6c-b5fc-de79ddc7c52b",
   "metadata": {},
   "outputs": [
    {
     "name": "stdout",
     "output_type": "stream",
     "text": [
      "Variable   Type        Data/Info\n",
      "--------------------------------\n",
      "a          int         10\n",
      "sum        function    <function sum at 0x0000024F8F2FD240>\n"
     ]
    }
   ],
   "source": [
    "%whos"
   ]
  },
  {
   "cell_type": "code",
   "execution_count": null,
   "id": "e590a0f8-901b-4109-9451-08b6263f1315",
   "metadata": {},
   "outputs": [],
   "source": [
    "%%a"
   ]
  },
  {
   "cell_type": "code",
   "execution_count": 17,
   "id": "ca886b5c-fe28-4702-ac61-39a2f45fa219",
   "metadata": {},
   "outputs": [
    {
     "name": "stdout",
     "output_type": "stream",
     "text": [
      "Writing add.py\n"
     ]
    }
   ],
   "source": [
    "%%writefile add.py\n",
    "\n",
    "def add(x:int, y:int) -> int:\n",
    "    \"\"\"add()는 두 수를 더한 결과를 반환한다.\n",
    "    \"\"\"\n",
    "    return x+y\n",
    "\n",
    "print(add(100, 20))"
   ]
  },
  {
   "cell_type": "code",
   "execution_count": 18,
   "id": "f96b14b7-eaf2-4e9d-8b41-e94651806c97",
   "metadata": {},
   "outputs": [
    {
     "name": "stdout",
     "output_type": "stream",
     "text": [
      " C 드라이브의 볼륨에는 이름이 없습니다.\n",
      " 볼륨 일련 번호: 54F7-C621\n",
      "\n",
      " C:\\Users\\pc\\pythondata 디렉터리\n",
      "\n",
      "2023-03-16  오전 10:40               140 add.py\n",
      "               1개 파일                 140 바이트\n",
      "               0개 디렉터리   7,089,827,840 바이트 남음\n"
     ]
    }
   ],
   "source": [
    "%ls add.py"
   ]
  },
  {
   "cell_type": "code",
   "execution_count": 19,
   "id": "0016a3f3-1dfc-4fc0-899d-9b0644b8d02c",
   "metadata": {},
   "outputs": [
    {
     "name": "stdout",
     "output_type": "stream",
     "text": [
      "120\n"
     ]
    }
   ],
   "source": [
    "%run add.py"
   ]
  },
  {
   "cell_type": "code",
   "execution_count": 20,
   "id": "7741b8ec-10a4-4edc-ac67-396cf0265b27",
   "metadata": {},
   "outputs": [
    {
     "name": "stdout",
     "output_type": "stream",
     "text": [
      "120\n"
     ]
    }
   ],
   "source": [
    "! python add.py"
   ]
  },
  {
   "cell_type": "code",
   "execution_count": 21,
   "id": "d8ca5f15-d6ac-4727-b94c-d5c0169e7098",
   "metadata": {},
   "outputs": [
    {
     "data": {
      "text/plain": [
       "'C:\\\\Users\\\\pc\\\\pythondata'"
      ]
     },
     "execution_count": 21,
     "metadata": {},
     "output_type": "execute_result"
    }
   ],
   "source": [
    "%pwd"
   ]
  },
  {
   "cell_type": "code",
   "execution_count": 22,
   "id": "21758526-f8c9-4f95-9fa8-8d3c8eb31bcb",
   "metadata": {},
   "outputs": [
    {
     "name": "stderr",
     "output_type": "stream",
     "text": [
      "하위 디렉터리 또는 파일 test이(가) 이미 있습니다.\n"
     ]
    }
   ],
   "source": [
    "%mkdir test"
   ]
  },
  {
   "cell_type": "code",
   "execution_count": 31,
   "id": "05965ab9-70ab-4f1f-bc1c-eb79d4199f99",
   "metadata": {},
   "outputs": [
    {
     "name": "stdout",
     "output_type": "stream",
     "text": [
      " C 드라이브의 볼륨에는 이름이 없습니다.\n",
      " 볼륨 일련 번호: 54F7-C621\n",
      "\n",
      " C:\\Users\\pc\\pythondata 디렉터리\n",
      "\n",
      "2023-03-16  오전 11:03    <DIR>          .\n",
      "2023-03-16  오전 11:03    <DIR>          ..\n",
      "2023-03-15  오후 05:47    <DIR>          .ipynb_checkpoints\n",
      "2023-03-15  오후 03:20             3,371 1-00개발환경.ipynb\n",
      "2023-03-16  오전 10:48            69,751 1-01JupyterNotebook.ipynb\n",
      "2023-03-15  오후 03:21         1,937,368 1-03Basic1_A.ipynb\n",
      "2023-03-15  오후 03:42            16,573 1-03Basic2.ipynb\n",
      "2023-03-15  오후 03:22           152,481 1-04Sequence_0.ipynb\n",
      "2023-03-15  오후 03:22            40,221 1-05Strings-Usages.ipynb\n",
      "2023-03-16  오전 10:40               140 add.py\n",
      "2023-03-15  오후 05:30                 8 sub1.md\n",
      "2023-03-15  오후 05:49               617 Untitled.ipynb\n",
      "               9개 파일           2,220,530 바이트\n",
      "               3개 디렉터리   7,086,030,848 바이트 남음\n"
     ]
    }
   ],
   "source": [
    "%ls"
   ]
  },
  {
   "cell_type": "code",
   "execution_count": 32,
   "id": "707c22e1-94b9-449a-9b9e-8c7c4db5bfde",
   "metadata": {},
   "outputs": [],
   "source": [
    "!mkdir test2"
   ]
  },
  {
   "cell_type": "code",
   "execution_count": 33,
   "id": "df1582aa-6df8-4a95-92d5-59c692e9fd7d",
   "metadata": {},
   "outputs": [],
   "source": [
    "%rmdir test2"
   ]
  },
  {
   "cell_type": "code",
   "execution_count": null,
   "id": "c4d7068b-d3ed-4621-95ae-3e11b96b521e",
   "metadata": {},
   "outputs": [],
   "source": [
    "!mv test2 test3"
   ]
  },
  {
   "cell_type": "code",
   "execution_count": null,
   "id": "d166377b-54da-4080-a2db-a4c203ddf391",
   "metadata": {},
   "outputs": [],
   "source": [
    "%mv test2 test3"
   ]
  },
  {
   "cell_type": "code",
   "execution_count": null,
   "id": "58f50d4c-c4a2-4876-8b7a-defa6c50c293",
   "metadata": {},
   "outputs": [],
   "source": [
    "%history"
   ]
  },
  {
   "cell_type": "code",
   "execution_count": 60,
   "id": "6211f88c-f9e7-4346-b141-e2e855e5a586",
   "metadata": {},
   "outputs": [
    {
     "name": "stdin",
     "output_type": "stream",
     "text": [
      "Once deleted, variables cannot be recovered. Proceed (y/[n])?  y\n"
     ]
    }
   ],
   "source": [
    "%reset"
   ]
  },
  {
   "cell_type": "markdown",
   "id": "60f8e7b7-ac13-4083-8c46-38441873809f",
   "metadata": {},
   "source": [
    "### ex) 외부명령 실행 결과 저장하는 방법 찾아보세요!!!"
   ]
  },
  {
   "cell_type": "code",
   "execution_count": null,
   "id": "194ba128-6688-4743-bfd3-c08fc17cb7a8",
   "metadata": {},
   "outputs": [],
   "source": []
  },
  {
   "cell_type": "code",
   "execution_count": null,
   "id": "38611fdf-369c-4dc7-8b7c-1df57fdc3271",
   "metadata": {},
   "outputs": [],
   "source": []
  },
  {
   "cell_type": "code",
   "execution_count": null,
   "id": "04616778-ab35-4451-8ea0-bf7d90e50645",
   "metadata": {},
   "outputs": [],
   "source": []
  },
  {
   "cell_type": "markdown",
   "id": "3ba71c6d-c85c-4e38-9d74-f76dbcea5969",
   "metadata": {},
   "source": [
    "## 수행시간 프로파일링\n",
    "\n",
    " - `%time`: 코드를 한번 수행되는 시간\n",
    " - `%timeit` , `%%timeit`: 코드를 여러번 수행해 평균을 측정"
   ]
  },
  {
   "cell_type": "code",
   "execution_count": 69,
   "id": "5da43163-9e86-4489-9dea-29b85fe317df",
   "metadata": {},
   "outputs": [],
   "source": [
    "from collections import deque"
   ]
  },
  {
   "cell_type": "code",
   "execution_count": null,
   "id": "32c1a7f3-0ac5-432d-b60b-1d7332ee9c30",
   "metadata": {},
   "outputs": [],
   "source": []
  },
  {
   "cell_type": "markdown",
   "id": "4493e420-7a46-4a15-bee1-df7658b58b03",
   "metadata": {},
   "source": [
    "### `%time` 과 `%%time`\n",
    "\n",
    "코드가 한번 실행하는 수행시간을 측정"
   ]
  },
  {
   "cell_type": "code",
   "execution_count": 40,
   "id": "ff0735ef-3393-4256-80d2-e387102de38e",
   "metadata": {},
   "outputs": [
    {
     "name": "stdout",
     "output_type": "stream",
     "text": [
      "CPU times: total: 0 ns\n",
      "Wall time: 0 ns\n"
     ]
    },
    {
     "data": {
      "text/plain": [
       "15273708540796677855567598230857492232616230932137438752083864194096252035158298139783034803039562299865591895860374533691805527863383163337167716810184021237322415432768428800537248505174462397583693728185764778775698717134048189987560569377651799042341033408012137054904634866948467757538875101112443345310542511917704877822716053748531806030068618457501537687744155974418763909049249484556849027368572076327167033939378152697530994164332042607094399070976592988811140984716624318429813271819813801492481467571355863520789869737007105344107797892610611132322496403212162457092878082920116137773839224178060324642891339319714674583179898760155164009158559488521247797953447590966762668514458007321679435494403106937304281596355142283741361865544861092988938771573688300178705265180686588755396772425825447097936377920458059366407959451344680083846791907539018956606630471730098629110976441095853009099461143713576028941669526048906511184844170621232398898492574810551983834117973354738161761343453645258450559749626458062310729724900800667056817819866503140715738677620309486546788912112998836295020453462407332871651651530328524215592500405647004309884635973215663744461415638873565792854251505561822881159357157327938810719692553851994562227176654546538376569126626284985940080744654994397383022653543163694226007708457081577836672617208015546573713983946619812259401367488146096049028876695872070762727752379249245429585379754165623555795711122812668354570207429293883127272266534798723252667844000260216909006070809661492656454851287200740688117226124291240154416703109381133580320445598336585145434828406891526534968343848044977977734538795357821534672259364105105264046421079893645584277634191303420718467779663965363547693592720001324009104938651461940901074651420218490264939030753717409073901898255647018892810703015355878474739651407124179192374845484996419029432352945827162155207686322590185997972752292121490151025350630861288960973703761621730645921850275024926452378331997053906694392672214477359919911931508189689829738920022414322699515390014973553062304241994935636521211320449484698257270340551640421858633864974146546260465070707783180737356344025474670097297135354529636470247355633283447734563318902067110993098395868200537961656815027154996962501216721218485883511700415721708293608759031236546798651146955034834080985583979692340787598927123316324084041972677036906633803170128604647540961008302302892348142903797634354131483846686794523985205316852871865363362564450242026324306058007861855322012521391870499799327921748518746001205794076658075380370867382396187987817834680400801213921412651739260917694838207095188562904912106158826432148403304687696006445457516544286633959303055263748009914318049479356180768956803729447839373235798593001299138377149162471505275682001007291409907409850340831095456985200352604633386936999538732829507159401819922862792068730648073238014719410086901066759148630919712710814757798767179667301116856314317498137845053774537063794275661452176527636328980753241673486262127905740676727527108414391015207367895144042817626668255171423944169632570102180211268757267960679886481175083695231704515988970220352116019177919108108941547789684583805849159907686274163174043846459339508753310604633028326926327683020939448151544347626759957789995071867037504384909056826221791231697521517420780099106259080048972732554727455640127702447400049502893808211093520243224087210662564668293302155869602721826639227190866352301173662821819699636445235976297255999046040196947690092126674560045062306643386292766514030774952727519175606038174437042335727803810607263782792238862211922517995450242406075681288821452862024353516989000668312440386255445832488166836828399387599741469798947716557717616221159335568153797724365799092918963885827534917764782735837729951118559816187113143943248580581480800450695397376"
      ]
     },
     "execution_count": 40,
     "metadata": {},
     "output_type": "execute_result"
    }
   ],
   "source": [
    "%time 2**12800"
   ]
  },
  {
   "cell_type": "code",
   "execution_count": 45,
   "id": "346caefe-c556-403a-87d0-729660eeb873",
   "metadata": {
    "collapsed": true,
    "jupyter": {
     "outputs_hidden": true
    },
    "tags": []
   },
   "outputs": [
    {
     "name": "stdout",
     "output_type": "stream",
     "text": [
      "CPU times: total: 0 ns\n",
      "Wall time: 998 µs\n"
     ]
    },
    {
     "data": {
      "text/plain": [
       "deque([0,\n",
       "       1,\n",
       "       2,\n",
       "       3,\n",
       "       4,\n",
       "       5,\n",
       "       6,\n",
       "       7,\n",
       "       8,\n",
       "       9,\n",
       "       10,\n",
       "       11,\n",
       "       12,\n",
       "       13,\n",
       "       14,\n",
       "       15,\n",
       "       16,\n",
       "       17,\n",
       "       18,\n",
       "       19,\n",
       "       20,\n",
       "       21,\n",
       "       22,\n",
       "       23,\n",
       "       24,\n",
       "       25,\n",
       "       26,\n",
       "       27,\n",
       "       28,\n",
       "       29,\n",
       "       30,\n",
       "       31,\n",
       "       32,\n",
       "       33,\n",
       "       34,\n",
       "       35,\n",
       "       36,\n",
       "       37,\n",
       "       38,\n",
       "       39,\n",
       "       40,\n",
       "       41,\n",
       "       42,\n",
       "       43,\n",
       "       44,\n",
       "       45,\n",
       "       46,\n",
       "       47,\n",
       "       48,\n",
       "       49,\n",
       "       50,\n",
       "       51,\n",
       "       52,\n",
       "       53,\n",
       "       54,\n",
       "       55,\n",
       "       56,\n",
       "       57,\n",
       "       58,\n",
       "       59,\n",
       "       60,\n",
       "       61,\n",
       "       62,\n",
       "       63,\n",
       "       64,\n",
       "       65,\n",
       "       66,\n",
       "       67,\n",
       "       68,\n",
       "       69,\n",
       "       70,\n",
       "       71,\n",
       "       72,\n",
       "       73,\n",
       "       74,\n",
       "       75,\n",
       "       76,\n",
       "       77,\n",
       "       78,\n",
       "       79,\n",
       "       80,\n",
       "       81,\n",
       "       82,\n",
       "       83,\n",
       "       84,\n",
       "       85,\n",
       "       86,\n",
       "       87,\n",
       "       88,\n",
       "       89,\n",
       "       90,\n",
       "       91,\n",
       "       92,\n",
       "       93,\n",
       "       94,\n",
       "       95,\n",
       "       96,\n",
       "       97,\n",
       "       98,\n",
       "       99,\n",
       "       100,\n",
       "       101,\n",
       "       102,\n",
       "       103,\n",
       "       104,\n",
       "       105,\n",
       "       106,\n",
       "       107,\n",
       "       108,\n",
       "       109,\n",
       "       110,\n",
       "       111,\n",
       "       112,\n",
       "       113,\n",
       "       114,\n",
       "       115,\n",
       "       116,\n",
       "       117,\n",
       "       118,\n",
       "       119,\n",
       "       120,\n",
       "       121,\n",
       "       122,\n",
       "       123,\n",
       "       124,\n",
       "       125,\n",
       "       126,\n",
       "       127,\n",
       "       128,\n",
       "       129,\n",
       "       130,\n",
       "       131,\n",
       "       132,\n",
       "       133,\n",
       "       134,\n",
       "       135,\n",
       "       136,\n",
       "       137,\n",
       "       138,\n",
       "       139,\n",
       "       140,\n",
       "       141,\n",
       "       142,\n",
       "       143,\n",
       "       144,\n",
       "       145,\n",
       "       146,\n",
       "       147,\n",
       "       148,\n",
       "       149,\n",
       "       150,\n",
       "       151,\n",
       "       152,\n",
       "       153,\n",
       "       154,\n",
       "       155,\n",
       "       156,\n",
       "       157,\n",
       "       158,\n",
       "       159,\n",
       "       160,\n",
       "       161,\n",
       "       162,\n",
       "       163,\n",
       "       164,\n",
       "       165,\n",
       "       166,\n",
       "       167,\n",
       "       168,\n",
       "       169,\n",
       "       170,\n",
       "       171,\n",
       "       172,\n",
       "       173,\n",
       "       174,\n",
       "       175,\n",
       "       176,\n",
       "       177,\n",
       "       178,\n",
       "       179,\n",
       "       180,\n",
       "       181,\n",
       "       182,\n",
       "       183,\n",
       "       184,\n",
       "       185,\n",
       "       186,\n",
       "       187,\n",
       "       188,\n",
       "       189,\n",
       "       190,\n",
       "       191,\n",
       "       192,\n",
       "       193,\n",
       "       194,\n",
       "       195,\n",
       "       196,\n",
       "       197,\n",
       "       198,\n",
       "       199,\n",
       "       200,\n",
       "       201,\n",
       "       202,\n",
       "       203,\n",
       "       204,\n",
       "       205,\n",
       "       206,\n",
       "       207,\n",
       "       208,\n",
       "       209,\n",
       "       210,\n",
       "       211,\n",
       "       212,\n",
       "       213,\n",
       "       214,\n",
       "       215,\n",
       "       216,\n",
       "       217,\n",
       "       218,\n",
       "       219,\n",
       "       220,\n",
       "       221,\n",
       "       222,\n",
       "       223,\n",
       "       224,\n",
       "       225,\n",
       "       226,\n",
       "       227,\n",
       "       228,\n",
       "       229,\n",
       "       230,\n",
       "       231,\n",
       "       232,\n",
       "       233,\n",
       "       234,\n",
       "       235,\n",
       "       236,\n",
       "       237,\n",
       "       238,\n",
       "       239,\n",
       "       240,\n",
       "       241,\n",
       "       242,\n",
       "       243,\n",
       "       244,\n",
       "       245,\n",
       "       246,\n",
       "       247,\n",
       "       248,\n",
       "       249,\n",
       "       250,\n",
       "       251,\n",
       "       252,\n",
       "       253,\n",
       "       254,\n",
       "       255,\n",
       "       256,\n",
       "       257,\n",
       "       258,\n",
       "       259,\n",
       "       260,\n",
       "       261,\n",
       "       262,\n",
       "       263,\n",
       "       264,\n",
       "       265,\n",
       "       266,\n",
       "       267,\n",
       "       268,\n",
       "       269,\n",
       "       270,\n",
       "       271,\n",
       "       272,\n",
       "       273,\n",
       "       274,\n",
       "       275,\n",
       "       276,\n",
       "       277,\n",
       "       278,\n",
       "       279,\n",
       "       280,\n",
       "       281,\n",
       "       282,\n",
       "       283,\n",
       "       284,\n",
       "       285,\n",
       "       286,\n",
       "       287,\n",
       "       288,\n",
       "       289,\n",
       "       290,\n",
       "       291,\n",
       "       292,\n",
       "       293,\n",
       "       294,\n",
       "       295,\n",
       "       296,\n",
       "       297,\n",
       "       298,\n",
       "       299,\n",
       "       300,\n",
       "       301,\n",
       "       302,\n",
       "       303,\n",
       "       304,\n",
       "       305,\n",
       "       306,\n",
       "       307,\n",
       "       308,\n",
       "       309,\n",
       "       310,\n",
       "       311,\n",
       "       312,\n",
       "       313,\n",
       "       314,\n",
       "       315,\n",
       "       316,\n",
       "       317,\n",
       "       318,\n",
       "       319,\n",
       "       320,\n",
       "       321,\n",
       "       322,\n",
       "       323,\n",
       "       324,\n",
       "       325,\n",
       "       326,\n",
       "       327,\n",
       "       328,\n",
       "       329,\n",
       "       330,\n",
       "       331,\n",
       "       332,\n",
       "       333,\n",
       "       334,\n",
       "       335,\n",
       "       336,\n",
       "       337,\n",
       "       338,\n",
       "       339,\n",
       "       340,\n",
       "       341,\n",
       "       342,\n",
       "       343,\n",
       "       344,\n",
       "       345,\n",
       "       346,\n",
       "       347,\n",
       "       348,\n",
       "       349,\n",
       "       350,\n",
       "       351,\n",
       "       352,\n",
       "       353,\n",
       "       354,\n",
       "       355,\n",
       "       356,\n",
       "       357,\n",
       "       358,\n",
       "       359,\n",
       "       360,\n",
       "       361,\n",
       "       362,\n",
       "       363,\n",
       "       364,\n",
       "       365,\n",
       "       366,\n",
       "       367,\n",
       "       368,\n",
       "       369,\n",
       "       370,\n",
       "       371,\n",
       "       372,\n",
       "       373,\n",
       "       374,\n",
       "       375,\n",
       "       376,\n",
       "       377,\n",
       "       378,\n",
       "       379,\n",
       "       380,\n",
       "       381,\n",
       "       382,\n",
       "       383,\n",
       "       384,\n",
       "       385,\n",
       "       386,\n",
       "       387,\n",
       "       388,\n",
       "       389,\n",
       "       390,\n",
       "       391,\n",
       "       392,\n",
       "       393,\n",
       "       394,\n",
       "       395,\n",
       "       396,\n",
       "       397,\n",
       "       398,\n",
       "       399,\n",
       "       400,\n",
       "       401,\n",
       "       402,\n",
       "       403,\n",
       "       404,\n",
       "       405,\n",
       "       406,\n",
       "       407,\n",
       "       408,\n",
       "       409,\n",
       "       410,\n",
       "       411,\n",
       "       412,\n",
       "       413,\n",
       "       414,\n",
       "       415,\n",
       "       416,\n",
       "       417,\n",
       "       418,\n",
       "       419,\n",
       "       420,\n",
       "       421,\n",
       "       422,\n",
       "       423,\n",
       "       424,\n",
       "       425,\n",
       "       426,\n",
       "       427,\n",
       "       428,\n",
       "       429,\n",
       "       430,\n",
       "       431,\n",
       "       432,\n",
       "       433,\n",
       "       434,\n",
       "       435,\n",
       "       436,\n",
       "       437,\n",
       "       438,\n",
       "       439,\n",
       "       440,\n",
       "       441,\n",
       "       442,\n",
       "       443,\n",
       "       444,\n",
       "       445,\n",
       "       446,\n",
       "       447,\n",
       "       448,\n",
       "       449,\n",
       "       450,\n",
       "       451,\n",
       "       452,\n",
       "       453,\n",
       "       454,\n",
       "       455,\n",
       "       456,\n",
       "       457,\n",
       "       458,\n",
       "       459,\n",
       "       460,\n",
       "       461,\n",
       "       462,\n",
       "       463,\n",
       "       464,\n",
       "       465,\n",
       "       466,\n",
       "       467,\n",
       "       468,\n",
       "       469,\n",
       "       470,\n",
       "       471,\n",
       "       472,\n",
       "       473,\n",
       "       474,\n",
       "       475,\n",
       "       476,\n",
       "       477,\n",
       "       478,\n",
       "       479,\n",
       "       480,\n",
       "       481,\n",
       "       482,\n",
       "       483,\n",
       "       484,\n",
       "       485,\n",
       "       486,\n",
       "       487,\n",
       "       488,\n",
       "       489,\n",
       "       490,\n",
       "       491,\n",
       "       492,\n",
       "       493,\n",
       "       494,\n",
       "       495,\n",
       "       496,\n",
       "       497,\n",
       "       498,\n",
       "       499,\n",
       "       500,\n",
       "       501,\n",
       "       502,\n",
       "       503,\n",
       "       504,\n",
       "       505,\n",
       "       506,\n",
       "       507,\n",
       "       508,\n",
       "       509,\n",
       "       510,\n",
       "       511,\n",
       "       512,\n",
       "       513,\n",
       "       514,\n",
       "       515,\n",
       "       516,\n",
       "       517,\n",
       "       518,\n",
       "       519,\n",
       "       520,\n",
       "       521,\n",
       "       522,\n",
       "       523,\n",
       "       524,\n",
       "       525,\n",
       "       526,\n",
       "       527,\n",
       "       528,\n",
       "       529,\n",
       "       530,\n",
       "       531,\n",
       "       532,\n",
       "       533,\n",
       "       534,\n",
       "       535,\n",
       "       536,\n",
       "       537,\n",
       "       538,\n",
       "       539,\n",
       "       540,\n",
       "       541,\n",
       "       542,\n",
       "       543,\n",
       "       544,\n",
       "       545,\n",
       "       546,\n",
       "       547,\n",
       "       548,\n",
       "       549,\n",
       "       550,\n",
       "       551,\n",
       "       552,\n",
       "       553,\n",
       "       554,\n",
       "       555,\n",
       "       556,\n",
       "       557,\n",
       "       558,\n",
       "       559,\n",
       "       560,\n",
       "       561,\n",
       "       562,\n",
       "       563,\n",
       "       564,\n",
       "       565,\n",
       "       566,\n",
       "       567,\n",
       "       568,\n",
       "       569,\n",
       "       570,\n",
       "       571,\n",
       "       572,\n",
       "       573,\n",
       "       574,\n",
       "       575,\n",
       "       576,\n",
       "       577,\n",
       "       578,\n",
       "       579,\n",
       "       580,\n",
       "       581,\n",
       "       582,\n",
       "       583,\n",
       "       584,\n",
       "       585,\n",
       "       586,\n",
       "       587,\n",
       "       588,\n",
       "       589,\n",
       "       590,\n",
       "       591,\n",
       "       592,\n",
       "       593,\n",
       "       594,\n",
       "       595,\n",
       "       596,\n",
       "       597,\n",
       "       598,\n",
       "       599,\n",
       "       600,\n",
       "       601,\n",
       "       602,\n",
       "       603,\n",
       "       604,\n",
       "       605,\n",
       "       606,\n",
       "       607,\n",
       "       608,\n",
       "       609,\n",
       "       610,\n",
       "       611,\n",
       "       612,\n",
       "       613,\n",
       "       614,\n",
       "       615,\n",
       "       616,\n",
       "       617,\n",
       "       618,\n",
       "       619,\n",
       "       620,\n",
       "       621,\n",
       "       622,\n",
       "       623,\n",
       "       624,\n",
       "       625,\n",
       "       626,\n",
       "       627,\n",
       "       628,\n",
       "       629,\n",
       "       630,\n",
       "       631,\n",
       "       632,\n",
       "       633,\n",
       "       634,\n",
       "       635,\n",
       "       636,\n",
       "       637,\n",
       "       638,\n",
       "       639,\n",
       "       640,\n",
       "       641,\n",
       "       642,\n",
       "       643,\n",
       "       644,\n",
       "       645,\n",
       "       646,\n",
       "       647,\n",
       "       648,\n",
       "       649,\n",
       "       650,\n",
       "       651,\n",
       "       652,\n",
       "       653,\n",
       "       654,\n",
       "       655,\n",
       "       656,\n",
       "       657,\n",
       "       658,\n",
       "       659,\n",
       "       660,\n",
       "       661,\n",
       "       662,\n",
       "       663,\n",
       "       664,\n",
       "       665,\n",
       "       666,\n",
       "       667,\n",
       "       668,\n",
       "       669,\n",
       "       670,\n",
       "       671,\n",
       "       672,\n",
       "       673,\n",
       "       674,\n",
       "       675,\n",
       "       676,\n",
       "       677,\n",
       "       678,\n",
       "       679,\n",
       "       680,\n",
       "       681,\n",
       "       682,\n",
       "       683,\n",
       "       684,\n",
       "       685,\n",
       "       686,\n",
       "       687,\n",
       "       688,\n",
       "       689,\n",
       "       690,\n",
       "       691,\n",
       "       692,\n",
       "       693,\n",
       "       694,\n",
       "       695,\n",
       "       696,\n",
       "       697,\n",
       "       698,\n",
       "       699,\n",
       "       700,\n",
       "       701,\n",
       "       702,\n",
       "       703,\n",
       "       704,\n",
       "       705,\n",
       "       706,\n",
       "       707,\n",
       "       708,\n",
       "       709,\n",
       "       710,\n",
       "       711,\n",
       "       712,\n",
       "       713,\n",
       "       714,\n",
       "       715,\n",
       "       716,\n",
       "       717,\n",
       "       718,\n",
       "       719,\n",
       "       720,\n",
       "       721,\n",
       "       722,\n",
       "       723,\n",
       "       724,\n",
       "       725,\n",
       "       726,\n",
       "       727,\n",
       "       728,\n",
       "       729,\n",
       "       730,\n",
       "       731,\n",
       "       732,\n",
       "       733,\n",
       "       734,\n",
       "       735,\n",
       "       736,\n",
       "       737,\n",
       "       738,\n",
       "       739,\n",
       "       740,\n",
       "       741,\n",
       "       742,\n",
       "       743,\n",
       "       744,\n",
       "       745,\n",
       "       746,\n",
       "       747,\n",
       "       748,\n",
       "       749,\n",
       "       750,\n",
       "       751,\n",
       "       752,\n",
       "       753,\n",
       "       754,\n",
       "       755,\n",
       "       756,\n",
       "       757,\n",
       "       758,\n",
       "       759,\n",
       "       760,\n",
       "       761,\n",
       "       762,\n",
       "       763,\n",
       "       764,\n",
       "       765,\n",
       "       766,\n",
       "       767,\n",
       "       768,\n",
       "       769,\n",
       "       770,\n",
       "       771,\n",
       "       772,\n",
       "       773,\n",
       "       774,\n",
       "       775,\n",
       "       776,\n",
       "       777,\n",
       "       778,\n",
       "       779,\n",
       "       780,\n",
       "       781,\n",
       "       782,\n",
       "       783,\n",
       "       784,\n",
       "       785,\n",
       "       786,\n",
       "       787,\n",
       "       788,\n",
       "       789,\n",
       "       790,\n",
       "       791,\n",
       "       792,\n",
       "       793,\n",
       "       794,\n",
       "       795,\n",
       "       796,\n",
       "       797,\n",
       "       798,\n",
       "       799,\n",
       "       800,\n",
       "       801,\n",
       "       802,\n",
       "       803,\n",
       "       804,\n",
       "       805,\n",
       "       806,\n",
       "       807,\n",
       "       808,\n",
       "       809,\n",
       "       810,\n",
       "       811,\n",
       "       812,\n",
       "       813,\n",
       "       814,\n",
       "       815,\n",
       "       816,\n",
       "       817,\n",
       "       818,\n",
       "       819,\n",
       "       820,\n",
       "       821,\n",
       "       822,\n",
       "       823,\n",
       "       824,\n",
       "       825,\n",
       "       826,\n",
       "       827,\n",
       "       828,\n",
       "       829,\n",
       "       830,\n",
       "       831,\n",
       "       832,\n",
       "       833,\n",
       "       834,\n",
       "       835,\n",
       "       836,\n",
       "       837,\n",
       "       838,\n",
       "       839,\n",
       "       840,\n",
       "       841,\n",
       "       842,\n",
       "       843,\n",
       "       844,\n",
       "       845,\n",
       "       846,\n",
       "       847,\n",
       "       848,\n",
       "       849,\n",
       "       850,\n",
       "       851,\n",
       "       852,\n",
       "       853,\n",
       "       854,\n",
       "       855,\n",
       "       856,\n",
       "       857,\n",
       "       858,\n",
       "       859,\n",
       "       860,\n",
       "       861,\n",
       "       862,\n",
       "       863,\n",
       "       864,\n",
       "       865,\n",
       "       866,\n",
       "       867,\n",
       "       868,\n",
       "       869,\n",
       "       870,\n",
       "       871,\n",
       "       872,\n",
       "       873,\n",
       "       874,\n",
       "       875,\n",
       "       876,\n",
       "       877,\n",
       "       878,\n",
       "       879,\n",
       "       880,\n",
       "       881,\n",
       "       882,\n",
       "       883,\n",
       "       884,\n",
       "       885,\n",
       "       886,\n",
       "       887,\n",
       "       888,\n",
       "       889,\n",
       "       890,\n",
       "       891,\n",
       "       892,\n",
       "       893,\n",
       "       894,\n",
       "       895,\n",
       "       896,\n",
       "       897,\n",
       "       898,\n",
       "       899,\n",
       "       900,\n",
       "       901,\n",
       "       902,\n",
       "       903,\n",
       "       904,\n",
       "       905,\n",
       "       906,\n",
       "       907,\n",
       "       908,\n",
       "       909,\n",
       "       910,\n",
       "       911,\n",
       "       912,\n",
       "       913,\n",
       "       914,\n",
       "       915,\n",
       "       916,\n",
       "       917,\n",
       "       918,\n",
       "       919,\n",
       "       920,\n",
       "       921,\n",
       "       922,\n",
       "       923,\n",
       "       924,\n",
       "       925,\n",
       "       926,\n",
       "       927,\n",
       "       928,\n",
       "       929,\n",
       "       930,\n",
       "       931,\n",
       "       932,\n",
       "       933,\n",
       "       934,\n",
       "       935,\n",
       "       936,\n",
       "       937,\n",
       "       938,\n",
       "       939,\n",
       "       940,\n",
       "       941,\n",
       "       942,\n",
       "       943,\n",
       "       944,\n",
       "       945,\n",
       "       946,\n",
       "       947,\n",
       "       948,\n",
       "       949,\n",
       "       950,\n",
       "       951,\n",
       "       952,\n",
       "       953,\n",
       "       954,\n",
       "       955,\n",
       "       956,\n",
       "       957,\n",
       "       958,\n",
       "       959,\n",
       "       960,\n",
       "       961,\n",
       "       962,\n",
       "       963,\n",
       "       964,\n",
       "       965,\n",
       "       966,\n",
       "       967,\n",
       "       968,\n",
       "       969,\n",
       "       970,\n",
       "       971,\n",
       "       972,\n",
       "       973,\n",
       "       974,\n",
       "       975,\n",
       "       976,\n",
       "       977,\n",
       "       978,\n",
       "       979,\n",
       "       980,\n",
       "       981,\n",
       "       982,\n",
       "       983,\n",
       "       984,\n",
       "       985,\n",
       "       986,\n",
       "       987,\n",
       "       988,\n",
       "       989,\n",
       "       990,\n",
       "       991,\n",
       "       992,\n",
       "       993,\n",
       "       994,\n",
       "       995,\n",
       "       996,\n",
       "       997,\n",
       "       998,\n",
       "       999,\n",
       "       ...])"
      ]
     },
     "execution_count": 45,
     "metadata": {},
     "output_type": "execute_result"
    }
   ],
   "source": [
    "%time deque([i for i in range(10000)])"
   ]
  },
  {
   "cell_type": "code",
   "execution_count": 62,
   "id": "d39acd76-7ee4-4a07-91dc-06438d1d768b",
   "metadata": {},
   "outputs": [
    {
     "name": "stdout",
     "output_type": "stream",
     "text": [
      "CPU times: total: 0 ns\n",
      "Wall time: 0 ns\n"
     ]
    },
    {
     "data": {
      "text/plain": [
       "4950"
      ]
     },
     "execution_count": 62,
     "metadata": {},
     "output_type": "execute_result"
    }
   ],
   "source": [
    "%time sum(range(100))"
   ]
  },
  {
   "cell_type": "code",
   "execution_count": 61,
   "id": "0b0a65d3-eff0-4067-9a32-0dda57173b66",
   "metadata": {},
   "outputs": [
    {
     "data": {
      "text/plain": [
       "4950"
      ]
     },
     "execution_count": 61,
     "metadata": {},
     "output_type": "execute_result"
    }
   ],
   "source": [
    "sum(range(100))"
   ]
  },
  {
   "cell_type": "code",
   "execution_count": 63,
   "id": "afc05683-411d-4ece-b47c-7f966f8df652",
   "metadata": {},
   "outputs": [
    {
     "name": "stdout",
     "output_type": "stream",
     "text": [
      "CPU times: total: 0 ns\n",
      "Wall time: 0 ns\n"
     ]
    },
    {
     "data": {
      "text/plain": [
       "499500"
      ]
     },
     "execution_count": 63,
     "metadata": {},
     "output_type": "execute_result"
    }
   ],
   "source": [
    "%%time\n",
    "sum(range(100))\n",
    "sum(range(1000))"
   ]
  },
  {
   "cell_type": "markdown",
   "id": "1cca44cb-d022-415d-b1fe-dd13ebca0603",
   "metadata": {},
   "source": [
    "### `%timeit` 과 `%%timeit`\n",
    "\n",
    "코드를 여러번 수행한 평균 시간을 측정"
   ]
  },
  {
   "cell_type": "code",
   "execution_count": 65,
   "id": "efb2ad7f-4f1c-4145-90e5-b9d0bde664f6",
   "metadata": {},
   "outputs": [],
   "source": [
    "import numpy as np"
   ]
  },
  {
   "cell_type": "code",
   "execution_count": 66,
   "id": "84b3f556-638f-4f7b-bffb-dbedd5f54c3e",
   "metadata": {},
   "outputs": [
    {
     "name": "stdout",
     "output_type": "stream",
     "text": [
      "5.72 µs ± 36.1 ns per loop (mean ± std. dev. of 7 runs, 100,000 loops each)\n"
     ]
    }
   ],
   "source": [
    "%timeit np.sum(1000)"
   ]
  },
  {
   "cell_type": "code",
   "execution_count": 73,
   "id": "849e8e63-323b-4a04-bb5a-d365f112cb8f",
   "metadata": {},
   "outputs": [],
   "source": [
    "%timeit"
   ]
  },
  {
   "cell_type": "code",
   "execution_count": 70,
   "id": "b5b143e2-5823-4fe7-830e-6ad7eaed2faf",
   "metadata": {},
   "outputs": [
    {
     "name": "stdout",
     "output_type": "stream",
     "text": [
      "3.13 µs ± 16.4 ns per loop (mean ± std. dev. of 7 runs, 100,000 loops each)\n",
      "313 µs ± 1.17 µs per loop (mean ± std. dev. of 7 runs, 1,000 loops each)\n",
      "53.8 ms ± 288 µs per loop (mean ± std. dev. of 7 runs, 10 loops each)\n",
      "5.81 s ± 52.1 ms per loop (mean ± std. dev. of 7 runs, 1 loop each)\n"
     ]
    }
   ],
   "source": [
    "%timeit deque([i for i in range(100)])\n",
    "%timeit deque([i for i in range(10000)])\n",
    "%timeit deque([i for i in range(1000000)])\n",
    "%timeit deque([i for i in range(100000000)])"
   ]
  },
  {
   "cell_type": "code",
   "execution_count": 71,
   "id": "8b69a831-c397-4e82-96ce-130677378398",
   "metadata": {},
   "outputs": [
    {
     "name": "stdout",
     "output_type": "stream",
     "text": [
      "3.82 µs ± 57.1 ns per loop (mean ± std. dev. of 7 runs, 100,000 loops each)\n",
      "442 µs ± 4.68 µs per loop (mean ± std. dev. of 7 runs, 1,000 loops each)\n",
      "51 ms ± 294 µs per loop (mean ± std. dev. of 7 runs, 10 loops each)\n",
      "5.43 s ± 18.2 ms per loop (mean ± std. dev. of 7 runs, 1 loop each)\n"
     ]
    }
   ],
   "source": [
    "%timeit deque(i for i in range(100))\n",
    "%timeit deque(i for i in range(10000))\n",
    "%timeit deque(i for i in range(1000000))\n",
    "%timeit deque(i for i in range(100000000))"
   ]
  },
  {
   "cell_type": "code",
   "execution_count": 72,
   "id": "25922ccd-3417-49ec-a71a-1865855525f3",
   "metadata": {},
   "outputs": [
    {
     "name": "stdout",
     "output_type": "stream",
     "text": [
      "663 ns ± 4.19 ns per loop (mean ± std. dev. of 7 runs, 1,000,000 loops each)\n",
      "136 µs ± 656 ns per loop (mean ± std. dev. of 7 runs, 10,000 loops each)\n",
      "20.6 ms ± 261 µs per loop (mean ± std. dev. of 7 runs, 10 loops each)\n",
      "2.39 s ± 22.3 ms per loop (mean ± std. dev. of 7 runs, 1 loop each)\n"
     ]
    }
   ],
   "source": [
    "%timeit deque(range(100))\n",
    "%timeit deque(range(10000))\n",
    "%timeit deque(range(1000000))\n",
    "%timeit deque(range(100000000))"
   ]
  },
  {
   "cell_type": "code",
   "execution_count": null,
   "id": "cc4c4c03-c0c4-45e0-9617-6453c736e08d",
   "metadata": {},
   "outputs": [],
   "source": [
    "%timeit [i for i in range(100)]\n",
    "%timeit [i for i in range(10000)]\n",
    "%timeit [i for i in range(1000000)]\n",
    "%timeit [i for i in range(100000000)]"
   ]
  },
  {
   "cell_type": "code",
   "execution_count": null,
   "id": "67681ea2-6e8b-4e73-8335-4cd282c4f601",
   "metadata": {},
   "outputs": [],
   "source": [
    "%timeit list(range(100))\n",
    "%timeit list(range(10000))\n",
    "%timeit list(range(1000000))\n",
    "%timeit list(range(100000000))"
   ]
  },
  {
   "cell_type": "code",
   "execution_count": null,
   "id": "a77e3437-693a-44fa-a373-0e709ff30379",
   "metadata": {},
   "outputs": [],
   "source": [
    "%%timeit\n",
    "\n",
    "list(range(100))\n",
    "list(range(10000))\n",
    "list(range(1000000))\n",
    "list(range(100000000))"
   ]
  },
  {
   "cell_type": "markdown",
   "id": "27857e4a-3b23-4ecb-b31d-2561c7e2ec4c",
   "metadata": {},
   "source": [
    "### `%timeit` 의 옵션\n",
    "\n",
    "- `-n` : 한 루프당 몇 번 실행할 것인지 지정한다. 지정하지 않으면 알아서 적당히 충분히 정확한 데이터가 나올 정도로 실행함\n",
    "- `-r` : %timeit은 여러번 반복해서 그 평균값과 오차범위를 보여주는데, 몇 번 반복할 것인지를 지정할 수 있다.  기본값으로 7번 반복."
   ]
  },
  {
   "cell_type": "code",
   "execution_count": 76,
   "id": "41a66fab-d351-4435-b92e-55efc7798cd1",
   "metadata": {},
   "outputs": [
    {
     "name": "stdout",
     "output_type": "stream",
     "text": [
      "2.04 s ± 11.4 ms per loop (mean ± std. dev. of 3 runs, 3 loops each)\n"
     ]
    }
   ],
   "source": [
    "%%timeit -n 3 -r 3\n",
    "#  3(loops) * 3(runs)로 총 9번 실행이 된다\n",
    "list(range(100))\n",
    "list(range(10000))\n",
    "list(range(1000000))\n",
    "list(range(100000000))"
   ]
  },
  {
   "cell_type": "code",
   "execution_count": null,
   "id": "fa6624b8-8139-4959-abe1-fda8884cec0a",
   "metadata": {},
   "outputs": [],
   "source": [
    "%timeit -n 3 -r 3 sum(range(1000))"
   ]
  },
  {
   "cell_type": "code",
   "execution_count": null,
   "id": "de90d0e0-b208-44f5-99f4-32eb5cba6ae8",
   "metadata": {},
   "outputs": [],
   "source": [
    "%timeit -n 1 -r 3 sum(range(1000))"
   ]
  },
  {
   "cell_type": "markdown",
   "id": "99221f36-8731-42e2-bb1f-e3c3db1ada47",
   "metadata": {},
   "source": [
    " - `-t` : 시간계산에 time.time 모듈을 사용하게 된다. Unix 시스템에서 디폴트값이다\n",
    " - `-c` : 시간계산에 time.clock 모듈을 사용하게 된다. Windows 시스템에서 디폴트값이다. Unix시스템에서 이 옵션을 주면 Wall time(사람이 인지할 수 있는 시간) 대신 CPU time으로 계산된다\n",
    " - `-p` : 소숫점 몇자리까지 표시되는지 설정할 수 있다. 디폴트값은 3이다\n",
    " - `-q` : Quiet, 즉 결과값이 출력되지 않는다\n",
    " - `-o` : 결과를 TimeitResult객체로 반환한다"
   ]
  },
  {
   "cell_type": "code",
   "execution_count": null,
   "id": "d51e882b-21b3-4974-a244-692e559d6a8b",
   "metadata": {},
   "outputs": [],
   "source": []
  },
  {
   "cell_type": "markdown",
   "id": "9b15688f-f8d9-4980-8a09-f97364872687",
   "metadata": {},
   "source": [
    "# Markdown 사용\n",
    "\n",
    "https://guides.github.com/features/mastering-markdown/"
   ]
  },
  {
   "cell_type": "markdown",
   "id": "9e060e02-9ed3-481e-ab2c-4b39e290d04c",
   "metadata": {},
   "source": [
    "## 헤딩\n",
    "\n",
    "`#` 으로 `<h>` 태그 표현\n",
    "\n",
    "\n",
    "\n",
    "```html\n",
    "<h1></h1>\n",
    "<h2></h2>\n",
    "<h3></h3>\n",
    "<h4></h4>\n",
    "<h5></h5>\n",
    "```\n"
   ]
  },
  {
   "cell_type": "markdown",
   "id": "61b9cc23-3cc6-433d-9dee-0e9d3d19f858",
   "metadata": {},
   "source": [
    "## 텍스트 스타일\n",
    "\n",
    "```\n",
    "*안녕하세요*\n",
    "\n",
    "_안녕하세요_\n",
    "\n",
    "\n",
    "**안녕하세요**\n",
    "\n",
    "__안녕하세요__\n",
    "\n",
    "안녕하세요. **IoT** **_과정_** 여러분 ***반갑***습니다.\n",
    "```\n",
    "\n",
    "\n"
   ]
  },
  {
   "cell_type": "markdown",
   "id": "74aa4580-325e-496f-9358-9bf11c4e1471",
   "metadata": {},
   "source": [
    "## 인용\n",
    "\n",
    "```\n",
    "> 인용은 해당 문서 내용중 외부에서 얻은 자료...\n",
    "자료....\n",
    "\n",
    ">인용은 해당 문서 내용중 외부에서\n",
    "> ```java\n",
    "> public class java {\n",
    "> \n",
    "> }\n",
    "> ```\n",
    "```"
   ]
  },
  {
   "cell_type": "markdown",
   "id": "9b0aeaa6-6ca4-4f34-892c-a2269b686d8a",
   "metadata": {},
   "source": [
    "## 코드\n",
    "\n",
    "```\n",
    "def foo():\n",
    "    if not bar:\n",
    "        return True\n",
    "```\n"
   ]
  },
  {
   "cell_type": "markdown",
   "id": "23bc71dc-91b2-4ce5-a05f-534e4a182ee0",
   "metadata": {},
   "source": [
    "## Syntax highlighting\n",
    "\n",
    "\n",
    "```python\n",
    "def foo():\n",
    "    if not bar:\n",
    "        return True\n",
    "```"
   ]
  },
  {
   "cell_type": "markdown",
   "id": "33f8a76d-a8ac-467b-9c45-d0906753b8f1",
   "metadata": {},
   "source": [
    "## 링크\n",
    "\n",
    "```\n",
    "[서브1](./sub1.md)\n",
    "\n",
    "[서브1](sub1.md)\n",
    "\n",
    "[서브1](/day2/sub1.md)\n",
    "\n",
    "[깃헙](https://guides.github.com/features/mastering-markdown/)\n",
    "```\n",
    "\n",
    "a link\n",
    "\n",
    "```\n",
    "<a href=\"./sub1.md\">a link 서브1</a>\n",
    "```\n"
   ]
  },
  {
   "cell_type": "markdown",
   "id": "03da2984-5091-475b-99ba-986e4fc27573",
   "metadata": {},
   "source": [
    "[서브1](./sub1.md)\n",
    "\n",
    "[서브1](sub1.md)\n",
    "\n",
    "[서브1](/day2/sub1.md)\n",
    "\n",
    "[깃헙](https://guides.github.com/features/mastering-markdown/)\n",
    "```\n",
    "\n",
    "a link\n",
    "\n",
    "<a href=\"./sub1.md\">a link 서브1</a>\n"
   ]
  },
  {
   "cell_type": "markdown",
   "id": "c6e5e64d-6258-4a78-8f05-ec19b28af67f",
   "metadata": {
    "tags": []
   },
   "source": [
    "## 이미지\n",
    "\n",
    "\n",
    "![](https://octodex.github.com/images/yaktocat.png)\n",
    "\n",
    "<img \n",
    "src='https://octodex.github.com/images/yaktocat.png' width=100>\n",
    "\n"
   ]
  },
  {
   "cell_type": "markdown",
   "id": "e54ca5c0-14e2-4689-a944-a2ad4690aaa1",
   "metadata": {},
   "source": [
    "<img src='yaktocat.png'width=100>"
   ]
  },
  {
   "attachments": {
    "5419c463-7814-4fa8-9921-7082ff585c24.png": {
     "image/png": "[encoded data removed]"
    }
   },
   "cell_type": "markdown",
   "id": "b467c5cc-8a8d-4b68-b029-b6043defd00e",
   "metadata": {},
   "source": [
    "고양이 이미지....\n",
    "\n",
    "![image.png](attachment:5419c463-7814-4fa8-9921-7082ff585c24.png)!"
   ]
  },
  {
   "cell_type": "markdown",
   "id": "bd4aa348-916e-4c18-9bd9-9ee2c74a3456",
   "metadata": {},
   "source": [
    "## 리스트\n",
    "\n",
    "HTML 리스트\n",
    "\n",
    "```\n",
    "<ul>\n",
    " <li>하나\n",
    " <li>둘\n",
    "</ul>\n",
    "\n",
    "<ol>\n",
    " <li>하나\n",
    " <li>둘\n",
    "</ol>\n",
    "```"
   ]
  },
  {
   "cell_type": "markdown",
   "id": "8d813ea5-d0b7-4dc1-af9f-a54c8a3630f8",
   "metadata": {},
   "source": [
    "마크다운 리스트\n",
    "\n",
    "```\n",
    "- 아이템1\n",
    "- 아이템2\n",
    "    - 아이템22\n",
    "\n",
    "+ 아이템1\n",
    "+ 아이템2\n",
    "    - 아이템3\n",
    "    - 아이템4\n",
    "\n",
    "- 아이템1\n",
    "    - 아이템 중에 **중요**한 것으..\n",
    "```"
   ]
  },
  {
   "cell_type": "markdown",
   "id": "3285930b-89cd-45f4-8300-ec278a7c3725",
   "metadata": {},
   "source": [
    "마크다운 순서있는 리스트\n",
    "\n",
    "```\n",
    "1. 하나\n",
    "2. 둘\n",
    "3. 셋\n",
    "\n",
    "문장을 써주시거나.\n",
    "\n",
    "1. 하나\n",
    "1. 둘\n",
    "1. 셋\n",
    "    1. 들여쓰기\n",
    "    1. 들여쓰기\n",
    "    1. 들여쓰기\n",
    "        - 순서없는\n",
    "        - 순서없는\n",
    "        \n",
    "```\n"
   ]
  },
  {
   "cell_type": "code",
   "execution_count": null,
   "id": "f38638f7-ff56-4e93-a2dd-097f46a7a1cf",
   "metadata": {},
   "outputs": [],
   "source": []
  },
  {
   "cell_type": "markdown",
   "id": "53d30e69-3544-4271-a395-244b084a4060",
   "metadata": {},
   "source": [
    "## Foot notes\n",
    "\n",
    "```\n",
    "Here is a simple footnote[^1].\n",
    "\n",
    "A footnote can also have multiple lines[^2].  \n",
    "\n",
    "You can also use words, to fit your writing style more closely[^note].\n",
    "\n",
    "[^1]: My reference.\n",
    "[^2]: Every new line should be prefixed with 2 spaces.  \n",
    "  This allows you to have a footnote with multiple lines.\n",
    "[^note]:\n",
    "    Named footnotes will still render with numbers instead of the text but allow easier identification and linking.  \n",
    "    This footnote als\n",
    "```"
   ]
  },
  {
   "cell_type": "markdown",
   "id": "08cd09ff-c7b6-448e-aab6-f63bc0e904ca",
   "metadata": {},
   "source": [
    "Here is a simple footnote[^1].\n",
    "\n",
    "A footnote can also have multiple lines[^2].  \n",
    "\n",
    "---\n",
    "\n",
    "You can also use words, to fit your writing style more closely[^note].\n",
    "\n",
    "[^1]: My reference.\n",
    "[^2]: Every new line should be prefixed with 2 spaces.  \n",
    "  This allows you to have a footnote with multiple lines.\n",
    "[^note]:\n",
    "    Named footnotes will still render with numbers instead of the text but allow easier identification and linking.  \n",
    "    This footnote als"
   ]
  },
  {
   "cell_type": "code",
   "execution_count": null,
   "id": "ce582051-9e79-41c3-ae4c-be0d79951794",
   "metadata": {},
   "outputs": [],
   "source": []
  },
  {
   "cell_type": "markdown",
   "id": "8688c1fc-7197-4d61-a2cf-a512b38610c3",
   "metadata": {},
   "source": [
    "## Task lists\n",
    "\n",
    "```\n",
    "- [x] @mentions, #refs, [links](), **formatting**, and <del>tags</del> supported\n",
    "- [x] list syntax required (any unordered or ordered list supported)\n",
    "- [x] this is a complete item\n",
    "- [ ] this is an incomplete item\n",
    "\n",
    "```"
   ]
  },
  {
   "cell_type": "markdown",
   "id": "03766371-6205-4df6-ba59-34868ec96d3c",
   "metadata": {},
   "source": [
    "- [x] @mentions, #refs, [links](), **formatting**, and <del>tags</del> supported\n",
    "- [x] list syntax required (any unordered or ordered list supported)\n",
    "- [x] this is a complete item\n",
    "- [ ] this is an incomplete item"
   ]
  },
  {
   "cell_type": "markdown",
   "id": "715a7226-a6ae-42ba-90e0-478f2daa8a22",
   "metadata": {
    "slideshow": {
     "slide_type": "slide"
    }
   },
   "source": [
    "## LaTex\n",
    "\n",
    "* Mathjax를 포함하고 있다. LaTeX를 그대로 사용\n",
    "* [위키백과:TeX 문법](https://ko.wikipedia.org/wiki/%EC%9C%84%ED%82%A4%EB%B0%B1%EA%B3%BC:TeX_%EB%AC%B8%EB%B2%95)\n",
    "* 온라인 라텍스 편집기:  https://www.codecogs.com/latex/eqneditor.php\n",
    "\n",
    "\n",
    "```\n",
    "$$c = \\sqrt{a^2 + b^2}$$\n",
    "```\n",
    "\n",
    "$$c = \\sqrt{a^2 + b^2}$$\n",
    "\n",
    "```\n",
    "$$N(\\mu ,\\sigma )$$\n",
    "```\n",
    "\n",
    "$$N(\\mu ,\\sigma )$$"
   ]
  },
  {
   "cell_type": "markdown",
   "id": "575edc7d-7a35-4798-9510-26bb2df8b7e3",
   "metadata": {},
   "source": [
    "$$\n",
    "a=a-b\n",
    "$$"
   ]
  },
  {
   "cell_type": "code",
   "execution_count": null,
   "id": "a1bf2f95-341a-46a7-9673-57b495bb57db",
   "metadata": {},
   "outputs": [],
   "source": []
  }
 ],
 "metadata": {
  "kernelspec": {
   "display_name": "Python 3 (ipykernel)",
   "language": "python",
   "name": "python3"
  },
  "language_info": {
   "codemirror_mode": {
    "name": "ipython",
    "version": 3
   },
   "file_extension": ".py",
   "mimetype": "text/x-python",
   "name": "python",
   "nbconvert_exporter": "python",
   "pygments_lexer": "ipython3",
   "version": "3.10.9"
  }
 },
 "nbformat": 4,
 "nbformat_minor": 5
}
